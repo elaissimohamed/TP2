{
 "cells": [
  {
   "cell_type": "code",
   "execution_count": 1,
   "id": "19b078a6",
   "metadata": {},
   "outputs": [
    {
     "name": "stdout",
     "output_type": "stream",
     "text": [
      "['Perhaps one of the most significant advances made by Arabic mathematics began at this time with the work of al-Khwarizmi, namely\\nthe beginnings of algebra. It is important to understand just how significant this new idea was. It was a revolutionary move away from\\nthe Greek concept of mathematics which was essentially geometry. Algebra was a unifying theory which allowed rational\\nnumbers, irrational numbers, geometrical magnitudes, etc., to all be treated as \"algebraic objects\". It gave mathematics a whole new\\ndevelopment path so much broader in concept to that which had existed before, and provided a vehicle for future development of the\\nsubject. Another important aspect of the introduction of algebraic ideas was that it allowed mathematics to be applied to itself in a\\nway which had not happened before.', 'ربما كانت أحد أهم التطورات التي قامت بها الرياضيات العربية التي بدأت في هذا الوقت بعمل الخوارزمي  وهي بدايات الجبر،ومن المهم فهم كيف كانت هذه الفكرة الجديدة مهمة، فقد كانت خطوة ثورية بعيدا عن\\nالمفهوم اليوناني للرياضيات التي هي في جوهرها  هندسة، الجبركان نظرية موحدة تتحيح الأعداد الكسرية و الأعداد اللا كسرية ، والمقادير الهندسية و غيرها ، أن تتعامل على أنها أجسام جبرية، و أعطت الرياضيات ككل مسارا جديدًا للتطوربمفهوم \\n أوسع بكثير من الذي كان موجودًا من قبل ، وقدم وسيلة للتنمية في هذا الموضوع مستقبلا .و جانب آخر مهم لإدخال أفكار الجبر و هو أنه سمح بتطبيق الرياضيات على نفسها \\nبطريقة  لم تحدث من قبل.']\n"
     ]
    }
   ],
   "source": [
    "txt = [        \n",
    "\"\"\"Perhaps one of the most significant advances made by Arabic mathematics began at this time with the work of al-Khwarizmi, namely\n",
    "the beginnings of algebra. It is important to understand just how significant this new idea was. It was a revolutionary move away from\n",
    "the Greek concept of mathematics which was essentially geometry. Algebra was a unifying theory which allowed rational\n",
    "numbers, irrational numbers, geometrical magnitudes, etc., to all be treated as \"algebraic objects\". It gave mathematics a whole new\n",
    "development path so much broader in concept to that which had existed before, and provided a vehicle for future development of the\n",
    "subject. Another important aspect of the introduction of algebraic ideas was that it allowed mathematics to be applied to itself in a\n",
    "way which had not happened before.\"\"\",\n",
    "\n",
    " \"\"\"ربما كانت أحد أهم التطورات التي قامت بها الرياضيات العربية التي بدأت في هذا الوقت بعمل الخوارزمي  وهي بدايات الجبر،ومن المهم فهم كيف كانت هذه الفكرة الجديدة مهمة، فقد كانت خطوة ثورية بعيدا عن\n",
    "المفهوم اليوناني للرياضيات التي هي في جوهرها  هندسة، الجبركان نظرية موحدة تتحيح الأعداد الكسرية و الأعداد اللا كسرية ، والمقادير الهندسية و غيرها ، أن تتعامل على أنها أجسام جبرية، و أعطت الرياضيات ككل مسارا جديدًا للتطوربمفهوم \n",
    " أوسع بكثير من الذي كان موجودًا من قبل ، وقدم وسيلة للتنمية في هذا الموضوع مستقبلا .و جانب آخر مهم لإدخال أفكار الجبر و هو أنه سمح بتطبيق الرياضيات على نفسها \n",
    "بطريقة  لم تحدث من قبل.\"\"\"\n",
    "]\n",
    "\n",
    "print(txt)"
   ]
  },
  {
   "cell_type": "code",
   "execution_count": 2,
   "id": "b6b68ddb",
   "metadata": {},
   "outputs": [
    {
     "name": "stderr",
     "output_type": "stream",
     "text": [
      "[nltk_data] Downloading package stopwords to\n",
      "[nltk_data]     C:\\Users\\Simo\\AppData\\Roaming\\nltk_data...\n",
      "[nltk_data]   Unzipping corpora\\stopwords.zip.\n",
      "[nltk_data] Downloading package punkt to\n",
      "[nltk_data]     C:\\Users\\Simo\\AppData\\Roaming\\nltk_data...\n",
      "[nltk_data]   Unzipping tokenizers\\punkt.zip.\n"
     ]
    },
    {
     "name": "stdout",
     "output_type": "stream",
     "text": [
      "['perhaps', 'one', 'of', 'the', 'most', 'significant', 'advances', 'made', 'by', 'arabic', 'mathematics', 'began', 'at', 'this', 'time', 'with', 'the', 'work', 'of', 'alkhwarizmi', 'namely', 'the', 'beginnings', 'of', 'algebra', 'it', 'is', 'important', 'to', 'understand', 'just', 'how', 'significant', 'this', 'new', 'idea', 'was', 'it', 'was', 'a', 'revolutionary', 'move', 'away', 'from', 'the', 'greek', 'concept', 'of', 'mathematics', 'which', 'was', 'essentially', 'geometry', 'algebra', 'was', 'a', 'unifying', 'theory', 'which', 'allowed', 'rational', 'numbers', 'irrational', 'numbers', 'geometrical', 'magnitudes', 'etc', 'to', 'all', 'be', 'treated', 'as', 'algebraic', 'objects', 'it', 'gave', 'mathematics', 'a', 'whole', 'new', 'development', 'path', 'so', 'much', 'broader', 'in', 'concept', 'to', 'that', 'which', 'had', 'existed', 'before', 'and', 'provided', 'a', 'vehicle', 'for', 'future', 'development', 'of', 'the', 'subject', 'another', 'important', 'aspect', 'of', 'the', 'introduction', 'of', 'algebraic', 'ideas', 'was', 'that', 'it', 'allowed', 'mathematics', 'to', 'be', 'applied', 'to', 'itself', 'in', 'a', 'way', 'which', 'had', 'not', 'happened', 'before']\n"
     ]
    }
   ],
   "source": [
    "import string\n",
    "import nltk\n",
    "import re\n",
    "from nltk.corpus import stopwords\n",
    "nltk.download('stopwords')\n",
    "from nltk.tokenize import word_tokenize\n",
    "nltk.download('punkt')\n",
    "punctuations = '''`÷×؛<>_()*&^%][ـ،/:\"؟.,'{}~¦+|!”…“–ـ''' + string.punctuation  #all punctuations \n",
    "\n",
    "def delete_punctuations(sentence):\n",
    "  sentence = sentence.lower()\n",
    "  my_clean_sentence = ''.join([item for item in sentence if item not in punctuations ])\n",
    "  return my_clean_sentence\n",
    "  \n",
    "def sentence_tokenize(text):\n",
    "  return word_tokenize(text)\n",
    "  \n",
    "tokenized_list = sentence_tokenize(delete_punctuations(txt[0]))\n",
    "print(tokenized_list)"
   ]
  },
  {
   "cell_type": "code",
   "execution_count": 3,
   "id": "80e8a37e",
   "metadata": {},
   "outputs": [
    {
     "name": "stderr",
     "output_type": "stream",
     "text": [
      "[nltk_data] Downloading package punkt to\n",
      "[nltk_data]     C:\\Users\\Simo\\AppData\\Roaming\\nltk_data...\n",
      "[nltk_data]   Package punkt is already up-to-date!\n"
     ]
    }
   ],
   "source": [
    "import nltk\n",
    "\n",
    "documentA = 'Apple Inc. is an American multinational technology company that specializes in consumer electronics, computer software, and online services. Apple is the world\\'s largest technology company by revenue and, since January 2021, the world\\'s most valuable company'\n",
    "documentB = 'Google LLC is an American multinational technology company that specializes in Internet-related services and products, which include online advertising technologies, a search engine, cloud computing, software, and hardware'\n",
    "\n",
    "nltk.download('punkt')\n",
    "tokenize_A = nltk.word_tokenize(documentA)\n",
    "tokenize_B = nltk.word_tokenize(documentB)\n",
    "uniqueWords = set(tokenize_A).union(set(tokenize_B))"
   ]
  },
  {
   "cell_type": "code",
   "execution_count": 4,
   "id": "0e6a1ffd",
   "metadata": {},
   "outputs": [
    {
     "name": "stdout",
     "output_type": "stream",
     "text": [
      "<class 'set'>\n"
     ]
    },
    {
     "data": {
      "text/plain": [
       "{'since': 0,\n",
       " 'electronics': 0,\n",
       " 'engine': 0,\n",
       " 'multinational': 0,\n",
       " 'LLC': 0,\n",
       " 'search': 0,\n",
       " 'January': 0,\n",
       " 'software': 0,\n",
       " 'Apple': 0,\n",
       " 'products': 0,\n",
       " 'computer': 0,\n",
       " 'include': 0,\n",
       " 'American': 0,\n",
       " 'Google': 0,\n",
       " 'Inc.': 0,\n",
       " 'computing': 0,\n",
       " 'services': 0,\n",
       " 'which': 0,\n",
       " 'company': 0,\n",
       " 'that': 0,\n",
       " 'cloud': 0,\n",
       " '.': 0,\n",
       " \"'s\": 0,\n",
       " 'technologies': 0,\n",
       " 'consumer': 0,\n",
       " 'and': 0,\n",
       " ',': 0,\n",
       " 'largest': 0,\n",
       " 'the': 0,\n",
       " 'world': 0,\n",
       " 'valuable': 0,\n",
       " 'Internet-related': 0,\n",
       " 'most': 0,\n",
       " 'revenue': 0,\n",
       " 'is': 0,\n",
       " 'specializes': 0,\n",
       " '2021': 0,\n",
       " 'in': 0,\n",
       " 'online': 0,\n",
       " 'technology': 0,\n",
       " 'an': 0,\n",
       " 'hardware': 0,\n",
       " 'by': 0,\n",
       " 'a': 0,\n",
       " 'advertising': 0}"
      ]
     },
     "execution_count": 4,
     "metadata": {},
     "output_type": "execute_result"
    }
   ],
   "source": [
    "print(type(uniqueWords))\n",
    "dict.fromkeys(uniqueWords, 0)"
   ]
  },
  {
   "cell_type": "code",
   "execution_count": 5,
   "id": "a34d712e",
   "metadata": {},
   "outputs": [],
   "source": [
    "\n",
    "numOfWordsA = dict.fromkeys(uniqueWords, 0)\n",
    "for word in tokenize_A:\n",
    "    numOfWordsA[word] += 1\n",
    "numOfWordsB = dict.fromkeys(uniqueWords, 0)\n",
    "for word in tokenize_B:\n",
    "    numOfWordsB[word] += 1"
   ]
  },
  {
   "cell_type": "code",
   "execution_count": 6,
   "id": "80d7187b",
   "metadata": {},
   "outputs": [
    {
     "name": "stdout",
     "output_type": "stream",
     "text": [
      "{'since': 1, 'electronics': 1, 'engine': 0, 'multinational': 1, 'LLC': 0, 'search': 0, 'January': 1, 'software': 1, 'Apple': 2, 'products': 0, 'computer': 1, 'include': 0, 'American': 1, 'Google': 0, 'Inc.': 1, 'computing': 0, 'services': 1, 'which': 0, 'company': 3, 'that': 1, 'cloud': 0, '.': 1, \"'s\": 2, 'technologies': 0, 'consumer': 1, 'and': 2, ',': 4, 'largest': 1, 'the': 2, 'world': 2, 'valuable': 1, 'Internet-related': 0, 'most': 1, 'revenue': 1, 'is': 2, 'specializes': 1, '2021': 1, 'in': 1, 'online': 1, 'technology': 2, 'an': 1, 'hardware': 0, 'by': 1, 'a': 0, 'advertising': 0}\n"
     ]
    }
   ],
   "source": [
    "print(numOfWordsA)"
   ]
  },
  {
   "cell_type": "code",
   "execution_count": 7,
   "id": "d270139b",
   "metadata": {},
   "outputs": [
    {
     "name": "stdout",
     "output_type": "stream",
     "text": [
      "{'since': 0, 'electronics': 0, 'engine': 1, 'multinational': 1, 'LLC': 1, 'search': 1, 'January': 0, 'software': 1, 'Apple': 0, 'products': 1, 'computer': 0, 'include': 1, 'American': 1, 'Google': 1, 'Inc.': 0, 'computing': 1, 'services': 1, 'which': 1, 'company': 1, 'that': 1, 'cloud': 1, '.': 0, \"'s\": 0, 'technologies': 1, 'consumer': 0, 'and': 2, ',': 5, 'largest': 0, 'the': 0, 'world': 0, 'valuable': 0, 'Internet-related': 1, 'most': 0, 'revenue': 0, 'is': 1, 'specializes': 1, '2021': 0, 'in': 1, 'online': 1, 'technology': 1, 'an': 1, 'hardware': 1, 'by': 0, 'a': 1, 'advertising': 1}\n"
     ]
    }
   ],
   "source": [
    "print(numOfWordsB)"
   ]
  },
  {
   "cell_type": "code",
   "execution_count": 8,
   "id": "da060618",
   "metadata": {},
   "outputs": [
    {
     "name": "stdout",
     "output_type": "stream",
     "text": [
      "['Apple', 'Inc.', 'is', 'an', 'American', 'multinational', 'technology', 'company', 'that', 'specializes', 'in', 'consumer', 'electronics', ',', 'computer', 'software', ',', 'and', 'online', 'services', '.', 'Apple', 'is', 'the', 'world', \"'s\", 'largest', 'technology', 'company', 'by', 'revenue', 'and', ',', 'since', 'January', '2021', ',', 'the', 'world', \"'s\", 'most', 'valuable', 'company']\n",
      "{'since': 1, 'electronics': 1, 'engine': 0, 'multinational': 1, 'LLC': 0, 'search': 0, 'January': 1, 'software': 1, 'Apple': 2, 'products': 0, 'computer': 1, 'include': 0, 'American': 1, 'Google': 0, 'Inc.': 1, 'computing': 0, 'services': 1, 'which': 0, 'company': 3, 'that': 1, 'cloud': 0, '.': 1, \"'s\": 2, 'technologies': 0, 'consumer': 1, 'and': 2, ',': 4, 'largest': 1, 'the': 2, 'world': 2, 'valuable': 1, 'Internet-related': 0, 'most': 1, 'revenue': 1, 'is': 2, 'specializes': 1, '2021': 1, 'in': 1, 'online': 1, 'technology': 2, 'an': 1, 'hardware': 0, 'by': 1, 'a': 0, 'advertising': 0}\n"
     ]
    }
   ],
   "source": [
    "#Calculation de TF\n",
    "print(tokenize_A) \n",
    "print(numOfWordsA)"
   ]
  },
  {
   "cell_type": "code",
   "execution_count": null,
   "id": "46f4541c",
   "metadata": {},
   "outputs": [],
   "source": []
  }
 ],
 "metadata": {
  "kernelspec": {
   "display_name": "Python 3",
   "language": "python",
   "name": "python3"
  },
  "language_info": {
   "codemirror_mode": {
    "name": "ipython",
    "version": 3
   },
   "file_extension": ".py",
   "mimetype": "text/x-python",
   "name": "python",
   "nbconvert_exporter": "python",
   "pygments_lexer": "ipython3",
   "version": "3.8.8"
  }
 },
 "nbformat": 4,
 "nbformat_minor": 5
}
